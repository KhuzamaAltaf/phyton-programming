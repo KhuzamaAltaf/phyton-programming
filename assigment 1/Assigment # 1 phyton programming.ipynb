{
 "cells": [
  {
   "cell_type": "code",
   "execution_count": 2,
   "id": "decc386d",
   "metadata": {},
   "outputs": [
    {
     "name": "stdout",
     "output_type": "stream",
     "text": [
      "Twinkle twinkle little star,\n",
      "           How in wonder what you are\n",
      "                  up above the world so high.\n",
      "                   Like a diamond in the sky\n",
      "Twinkle twinkle little star,\n",
      "           How in wonder what you are\n"
     ]
    }
   ],
   "source": [
    "print(\"Twinkle twinkle little star,\");\n",
    "print(\"           How in wonder what you are\");\n",
    "print(\"                  up above the world so high.\");\n",
    "print(\"                   Like a diamond in the sky\");\n",
    "print(\"Twinkle twinkle little star,\");\n",
    "print(\"           How in wonder what you are\");\n"
   ]
  },
  {
   "cell_type": "code",
   "execution_count": 3,
   "id": "dc2091cf",
   "metadata": {},
   "outputs": [
    {
     "name": "stdout",
     "output_type": "stream",
     "text": [
      "Anaconda Navigator\n",
      "Jupitar notebook version 6.4.5\n"
     ]
    }
   ],
   "source": [
    "print(\"Anaconda Navigator\");\n",
    "print(\"Jupitar notebook version 6.4.5\");"
   ]
  },
  {
   "cell_type": "code",
   "execution_count": 4,
   "id": "2b68f4eb",
   "metadata": {},
   "outputs": [
    {
     "name": "stdout",
     "output_type": "stream",
     "text": [
      "date 1 Jan 2022\n",
      "Time 10:00 Am\n"
     ]
    }
   ],
   "source": [
    "print(\"date 1 Jan 2022\");\n",
    "print(\"Time 10:00 Am\");"
   ]
  },
  {
   "cell_type": "code",
   "execution_count": 4,
   "id": "21727a84",
   "metadata": {},
   "outputs": [
    {
     "name": "stdout",
     "output_type": "stream",
     "text": [
      "Area Of Circle\n",
      "Please enter Radiusr:\n",
      "5\n",
      "31.299999999999997\n"
     ]
    }
   ],
   "source": [
    "\n",
    "print(\"Area Of Circle\");\n",
    "value = input(\"Please enter Radiusr:\\n\")\n",
    " \n",
    "value = int(value)\n",
    "area=2*3.13*value;\n",
    "print(area);"
   ]
  },
  {
   "cell_type": "code",
   "execution_count": 5,
   "id": "b257fd5e",
   "metadata": {},
   "outputs": [
    {
     "name": "stdout",
     "output_type": "stream",
     "text": [
      "Please enter First Name:\n",
      "Khuzama\n",
      "Please enter Last Name:\n",
      "Altaf\n",
      "AltafKhuzama\n"
     ]
    }
   ],
   "source": [
    "value1 = input(\"Please enter First Name:\\n\");\n",
    "value2 = input(\"Please enter Last Name:\\n\");\n",
    "print(value2+value1);"
   ]
  },
  {
   "cell_type": "code",
   "execution_count": 9,
   "id": "ac6ae009",
   "metadata": {},
   "outputs": [
    {
     "name": "stdout",
     "output_type": "stream",
     "text": [
      "Please enter First Number:\n",
      "5\n",
      "Please enter Second Number:\n",
      "5\n",
      "10\n"
     ]
    }
   ],
   "source": [
    "value1 = input(\"Please enter First Number:\\n\");\n",
    "value2 = input(\"Please enter Second Number:\\n\");\n",
    "value1 = int(value);\n",
    "value2 = int(value);\n",
    "print(value1+value2);"
   ]
  },
  {
   "cell_type": "code",
   "execution_count": null,
   "id": "f3a044ca",
   "metadata": {},
   "outputs": [],
   "source": []
  },
  {
   "cell_type": "code",
   "execution_count": null,
   "id": "66989c20",
   "metadata": {},
   "outputs": [],
   "source": []
  }
 ],
 "metadata": {
  "kernelspec": {
   "display_name": "Python 3 (ipykernel)",
   "language": "python",
   "name": "python3"
  },
  "language_info": {
   "codemirror_mode": {
    "name": "ipython",
    "version": 3
   },
   "file_extension": ".py",
   "mimetype": "text/x-python",
   "name": "python",
   "nbconvert_exporter": "python",
   "pygments_lexer": "ipython3",
   "version": "3.9.7"
  }
 },
 "nbformat": 4,
 "nbformat_minor": 5
}
